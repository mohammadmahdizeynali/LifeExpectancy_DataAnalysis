{
 "cells": [
  {
   "cell_type": "code",
   "execution_count": null,
   "metadata": {},
   "outputs": [],
   "source": [
    "import pandas as pd\n",
    "\n",
    "def compute_numeric_correlation(file_path):\n",
    "    \n",
    "    df=pd.read_csv(file_path) \n",
    "    \n",
    "    non_numeric_cols = df.select_dtypes(exclude=['number']).columns\n",
    "\n",
    "    df_numeric = df.drop(non_numeric_cols, axis=1)\n",
    "\n",
    "    return df_numeric.corr().head()\n",
    "\n",
    "file_path = 'primary_dataset.csv' \n",
    "result = compute_numeric_correlation(file_path)"
   ]
  }
 ],
 "metadata": {
  "language_info": {
   "name": "python"
  }
 },
 "nbformat": 4,
 "nbformat_minor": 2
}
