{
 "cells": [
  {
   "cell_type": "code",
   "execution_count": null,
   "metadata": {},
   "outputs": [],
   "source": [
    "import seaborn as sns\n",
    "import matplotlib.pyplot as plt\n",
    "import pandas as pd\n",
    "\n",
    "def plot_pairplot(df):\n",
    "    sns.pairplot(df)\n",
    "    plt.show()\n",
    "\n",
    "df = pd.read_csv('/content/primary_dataset.csv')\n",
    "plot_pairplot(df)"
   ]
  }
 ],
 "metadata": {
  "language_info": {
   "name": "python"
  }
 },
 "nbformat": 4,
 "nbformat_minor": 2
}
