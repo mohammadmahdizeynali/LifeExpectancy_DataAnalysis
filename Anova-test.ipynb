{
 "cells": [
  {
   "cell_type": "code",
   "execution_count": null,
   "metadata": {},
   "outputs": [],
   "source": [
    "import pandas as pd\n",
    "import statsmodels.api as sm\n",
    "from statsmodels.formula.api import ols\n",
    "\n",
    "def perform_anova(df, dependent_var, independent_var, alpha=0.05):\n",
    "    \n",
    "    dependent_data = df[dependent_var]\n",
    "    independent_data = df[independent_var]\n",
    "\n",
    "    data = pd.DataFrame({dependent_var: dependent_data, independent_var: independent_data})\n",
    "\n",
    "    model = ols(f'{dependent_var} ~ C({independent_var})', data=data).fit()\n",
    "\n",
    "    anova_table = sm.stats.anova_lm(model, typ=2)\n",
    "    print(anova_table)\n",
    "\n",
    "    p_value = anova_table[\"PR(>F)\"][0]\n",
    "\n",
    "    if p_value < alpha:\n",
    "        print(\"P-value is less than alpha. Reject the null hypothesis that means are equal.\")\n",
    "    else:\n",
    "        print(\"Fail to reject the null hypothesis. Means are not significantly different.\")\n",
    "\n",
    "df = pd.read_csv('/content/primary_dataset.csv')\n",
    "perform_anova(df, 'Life_expectancy', 'Region')"
   ]
  }
 ],
 "metadata": {
  "language_info": {
   "name": "python"
  }
 },
 "nbformat": 4,
 "nbformat_minor": 2
}
