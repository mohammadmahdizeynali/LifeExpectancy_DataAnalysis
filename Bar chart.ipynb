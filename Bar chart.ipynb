{
 "cells": [
  {
   "cell_type": "code",
   "execution_count": null,
   "metadata": {},
   "outputs": [],
   "source": [
    "import pandas as pd\n",
    "import matplotlib.pyplot as plt\n",
    "\n",
    "def plot_avg_life_expectancy(file_path):\n",
    "\n",
    "    df = pd.read_csv(file_path)\n",
    "\n",
    "    avg_life_expectancy = df.groupby('Country')['Life_expectancy'].mean().reset_index()\n",
    "\n",
    "    plt.figure(figsize=(25, 16))\n",
    "    plt.bar(avg_life_expectancy['Country'], avg_life_expectancy['Life_expectancy'], color='skyblue')\n",
    "    plt.xlabel('Countries')\n",
    "    plt.ylabel('Average Life Expectancy')\n",
    "    plt.title('Average Life Expectancy across Different Countries')\n",
    "    plt.xticks(rotation=90)  \n",
    "\n",
    "    plt.tight_layout()\n",
    "    plt.show()\n",
    "\n",
    "file_path = '/content/primary_dataset.csv'\n",
    "plot_avg_life_expectancy(file_path)\n",
    "##########################################\n",
    "\n",
    "def plot_avg_gdp_per_capita(file_path):\n",
    "\n",
    "    df = pd.read_csv(file_path)\n",
    "\n",
    "    avg_gdp_per_capita = df.groupby('Country')['GDP_per_capita'].mean().reset_index()\n",
    "\n",
    "    plt.figure(figsize=(25, 16))\n",
    "    plt.bar(avg_gdp_per_capita['Country'], avg_gdp_per_capita['GDP_per_capita'], color='orange')\n",
    "    plt.xlabel('Countries')\n",
    "    plt.ylabel('Average GDP per Capita')\n",
    "    plt.title('Average GDP per Capita across Different Countries')\n",
    "    plt.xticks(rotation=90)  # چرخش نام کشورها برای بهتر دیده شدن\n",
    "\n",
    "    plt.tight_layout()\n",
    "    plt.show()\n",
    "\n",
    "plot_avg_gdp_per_capita(file_path)"
   ]
  }
 ],
 "metadata": {
  "language_info": {
   "name": "python"
  }
 },
 "nbformat": 4,
 "nbformat_minor": 2
}
