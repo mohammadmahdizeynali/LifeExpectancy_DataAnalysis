{
 "cells": [
  {
   "cell_type": "markdown",
   "metadata": {},
   "source": [
    "# In the name of ALLAH"
   ]
  },
  {
   "cell_type": "code",
   "execution_count": 53,
   "metadata": {},
   "outputs": [],
   "source": [
    "# library that we need \n",
    "\n",
    "import pandas as pd\n",
    "from pycountry_convert import country_alpha2_to_continent_code, country_name_to_country_alpha2"
   ]
  },
  {
   "cell_type": "code",
   "execution_count": 54,
   "metadata": {},
   "outputs": [],
   "source": [
    "def get_continent_name(continent_code: str) -> str:\n",
    "    continent_dict = {\n",
    "        \"NA\": \"North America\",\n",
    "        \"SA\": \"South America\",\n",
    "        \"AS\": \"Asia\",\n",
    "        \"AF\": \"Africa\",\n",
    "        \"OC\": \"Oceania\",\n",
    "        \"EU\": \"Europe\",\n",
    "        \"AQ\" : \"Antarctica\"\n",
    "    }\n",
    "    return continent_dict[continent_code]\n",
    "\n",
    "\n",
    "\n",
    "def get_continent(country_name):\n",
    "    try:\n",
    "        country_alpha2 = country_name_to_country_alpha2(country_name)\n",
    "        continent_code = country_alpha2_to_continent_code(country_alpha2)\n",
    "        return get_continent_name(continent_code)\n",
    "    except KeyError:\n",
    "        return \"Not found\"\n",
    "\n",
    "# Example usage\n",
    "country_name = \"Afghanistan\"\n",
    "continent = get_continent(country_name)\n"
   ]
  },
  {
   "cell_type": "code",
   "execution_count": 55,
   "metadata": {},
   "outputs": [],
   "source": [
    "# import df\n",
    "df = pd.read_csv(\"life_expectancy_primary_data.csv\")\n"
   ]
  },
  {
   "cell_type": "code",
   "execution_count": 56,
   "metadata": {},
   "outputs": [
    {
     "data": {
      "text/plain": [
       "'Asia'"
      ]
     },
     "execution_count": 56,
     "metadata": {},
     "output_type": "execute_result"
    }
   ],
   "source": [
    "df.head()\n",
    "df['Country'][0]\n",
    "get_continent(df['Country'][0])"
   ]
  },
  {
   "cell_type": "code",
   "execution_count": 57,
   "metadata": {},
   "outputs": [
    {
     "data": {
      "text/plain": [
       "True"
      ]
     },
     "execution_count": 57,
     "metadata": {},
     "output_type": "execute_result"
    }
   ],
   "source": [
    "df.insert(1, \"Continent\", \"\")\n",
    "df[\"Continent\"] = df[\"Country\"].apply(get_continent)\n",
    "\"Not found\" in df[\"Continent\"].values"
   ]
  },
  {
   "cell_type": "code",
   "execution_count": null,
   "metadata": {},
   "outputs": [],
   "source": []
  }
 ],
 "metadata": {
  "kernelspec": {
   "display_name": "life_expectancy",
   "language": "python",
   "name": "python3"
  },
  "language_info": {
   "codemirror_mode": {
    "name": "ipython",
    "version": 3
   },
   "file_extension": ".py",
   "mimetype": "text/x-python",
   "name": "python",
   "nbconvert_exporter": "python",
   "pygments_lexer": "ipython3",
   "version": "3.10.12"
  }
 },
 "nbformat": 4,
 "nbformat_minor": 2
}
