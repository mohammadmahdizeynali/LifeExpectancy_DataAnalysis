{
 "cells": [
  {
   "cell_type": "code",
   "execution_count": null,
   "metadata": {},
   "outputs": [],
   "source": [
    "import pandas as pd\n",
    "from scipy import stats\n",
    "\n",
    "def perform_ttest(df, group_col, target_col, group1_value, group2_value, alpha=0.05):\n",
    "\n",
    "    group1 = df[df[group_col] == group1_value][target_col]\n",
    "    group2 = df[df[group_col] == group2_value][target_col]\n",
    "\n",
    "    t_statistic, p_value = stats.ttest_ind(group1, group2)\n",
    "\n",
    "    print('t-test results:')\n",
    "    print('----------------------')\n",
    "    print('Group 1:')\n",
    "    print('Sample size:', len(group1))\n",
    "    print('Mean:', group1.mean())\n",
    "    print('Variance:', group1.var())\n",
    "    print()\n",
    "    print('Group 2:')\n",
    "    print('Sample size:', len(group2))\n",
    "    print('Mean:', group2.mean())\n",
    "    print('Variance:', group2.var())\n",
    "    print()\n",
    "    print('t-statistic:', t_statistic)\n",
    "    print('p-value:', p_value)\n",
    "\n",
    "    print()\n",
    "    alpha = 0.05\n",
    "    if p_value < alpha:\n",
    "        print('Conclusion: The mean life expectancy between the two groups is statistically significantly different.')\n",
    "    else:\n",
    "        print('Conclusion: The mean life expectancy between the two groups is not statistically significantly different.')\n",
    "\n",
    "df = pd.read_csv('/content/primary_dataset.csv')\n",
    "perform_ttest(df, 'Economy_status_Developed', 'Life_expectancy', 1, 0)"
   ]
  }
 ],
 "metadata": {
  "language_info": {
   "name": "python"
  }
 },
 "nbformat": 4,
 "nbformat_minor": 2
}
