{
 "cells": [
  {
   "cell_type": "code",
   "execution_count": 3,
   "metadata": {},
   "outputs": [],
   "source": [
    "import pandas as pd"
   ]
  },
  {
   "cell_type": "code",
   "execution_count": 7,
   "metadata": {},
   "outputs": [
    {
     "name": "stdout",
     "output_type": "stream",
     "text": [
      "   Country          Region  Year  Infant_deaths  Under_five_deaths  \\\n",
      "0  Turkiye     Middle East  2015           11.1               13.0   \n",
      "1    Spain  European Union  2015            2.7                3.3   \n",
      "2    India            Asia  2007           51.5               67.9   \n",
      "3   Guyana   South America  2006           32.8               40.5   \n",
      "4   Israel     Middle East  2012            3.4                4.3   \n",
      "\n",
      "   Adult_mortality  Alcohol_consumption  Hepatitis_B  Measles   BMI  ...  \\\n",
      "0         105.8240                 1.32           97       65  27.8  ...   \n",
      "1          57.9025                10.35           97       94  26.0  ...   \n",
      "2         201.0765                 1.57           60       35  21.2  ...   \n",
      "3         222.1965                 5.68           93       74  25.3  ...   \n",
      "4          57.9510                 2.89           97       89  27.0  ...   \n",
      "\n",
      "   Diphtheria  Incidents_HIV  GDP_per_capita  Population_mln  \\\n",
      "0          97           0.08           11006           78.53   \n",
      "1          97           0.09           25742           46.44   \n",
      "2          64           0.13            1076         1183.21   \n",
      "3          93           0.79            4146            0.75   \n",
      "4          94           0.08           33995            7.91   \n",
      "\n",
      "   Thinness_ten_nineteen_years  Thinness_five_nine_years  Schooling  \\\n",
      "0                          4.9                       4.8        7.8   \n",
      "1                          0.6                       0.5        9.7   \n",
      "2                         27.1                      28.0        5.0   \n",
      "3                          5.7                       5.5        7.9   \n",
      "4                          1.2                       1.1       12.8   \n",
      "\n",
      "   Economy_status_Developed  Economy_status_Developing  Life_expectancy  \n",
      "0                         0                          1             76.5  \n",
      "1                         1                          0             82.8  \n",
      "2                         0                          1             65.4  \n",
      "3                         0                          1             67.0  \n",
      "4                         1                          0             81.7  \n",
      "\n",
      "[5 rows x 21 columns]\n"
     ]
    }
   ],
   "source": [
    "file_path = \"E:\\\\LifeExpectancy_DataAnalysis\\\\primary_dataset.csv\"\n",
    "\n",
    "df2 = pd.read_csv(file_path)\n",
    "\n",
    "print(df2.head())"
   ]
  },
  {
   "cell_type": "code",
   "execution_count": 8,
   "metadata": {},
   "outputs": [
    {
     "name": "stdout",
     "output_type": "stream",
     "text": [
      "      Infant_deaths  Under_five_deaths  Adult_mortality  Alcohol_consumption  \\\n",
      "0         -0.699654          -0.671831        -0.752264            -0.879342   \n",
      "1         -1.004739          -0.889504        -1.169371             1.388788   \n",
      "2          0.767660           0.560155         0.076810            -0.816547   \n",
      "3          0.088482          -0.054716         0.260638             0.215791   \n",
      "4         -0.979315          -0.867064        -1.168949            -0.484993   \n",
      "...             ...                ...              ...                  ...   \n",
      "2859       2.420203           4.083321         0.866673            -1.187787   \n",
      "2860      -0.234763          -0.321759         0.374107             0.436827   \n",
      "2861      -0.459944          -0.315026        -0.499231            -0.819059   \n",
      "2862      -0.815877          -0.741397         0.102361             1.552054   \n",
      "2863      -1.026531          -0.905213        -1.233154             0.507156   \n",
      "\n",
      "      Hepatitis_B   Measles       BMI     Polio  Diphtheria  Incidents_HIV  \\\n",
      "0        0.794574 -0.661700  1.261475  0.696414    0.690747      -0.341998   \n",
      "1        0.794574  0.892723  0.440877  0.696414    0.690747      -0.337798   \n",
      "2       -1.518979 -2.269725 -1.747384 -1.293275   -1.433965      -0.320998   \n",
      "3        0.544460 -0.179293  0.121756  0.364800    0.433206      -0.043800   \n",
      "4        0.794574  0.624719  0.896765  0.497445    0.497592      -0.341998   \n",
      "...           ...       ...       ...       ...         ...            ...   \n",
      "2859    -0.768637 -0.715301 -1.929740 -3.017672   -3.365522      -0.169799   \n",
      "2860     0.794574  1.053525  0.121756  0.630091    0.561977      -0.367198   \n",
      "2861    -1.393922  0.946324 -1.428263  0.696414    0.690747      -0.367198   \n",
      "2862     0.606989  0.946324  0.486466  0.696414    0.561977      -0.354598   \n",
      "2863     0.231818  0.678320  0.486466  0.563768    0.561977      -0.354598   \n",
      "\n",
      "      GDP_per_capita  Population_mln  Thinness_ten_nineteen_years  \\\n",
      "0          -0.031593        0.306709                     0.007695   \n",
      "1           0.838721        0.071552                    -0.961328   \n",
      "2          -0.618062        8.401854                     5.010559   \n",
      "3          -0.436747       -0.263267                     0.187979   \n",
      "4           1.326146       -0.210798                    -0.826115   \n",
      "...              ...             ...                          ...   \n",
      "2859       -0.658046       -0.185736                     1.787994   \n",
      "2860       -0.533074       -0.249197                    -0.600761   \n",
      "2861       -0.555813       -0.126672                     2.373915   \n",
      "2862       -0.243147       -0.243554                    -0.352871   \n",
      "2863        2.208448       -0.266418                    -0.893721   \n",
      "\n",
      "      Thinness_five_nine_years  Schooling  Life_expectancy  \n",
      "0                    -0.022064   0.052941         0.812841  \n",
      "1                    -0.972460   0.652121         1.482771  \n",
      "2                     5.105658  -0.830060        -0.367513  \n",
      "3                     0.132652   0.084477        -0.197372  \n",
      "4                    -0.839847   1.629730         1.365799  \n",
      "...                        ...        ...              ...  \n",
      "2859                  1.768218  -2.059956        -2.015753  \n",
      "2860                 -0.574620   0.462906        -0.208005  \n",
      "2861                  2.342877   0.841336         0.578897  \n",
      "2862                 -0.353597   1.093622         0.313051  \n",
      "2863                 -0.884051   1.062086         1.440235  \n",
      "\n",
      "[2864 rows x 16 columns]\n"
     ]
    }
   ],
   "source": [
    "from sklearn.preprocessing import StandardScaler\n",
    "\n",
    "#unnormal feature\n",
    "non_normal_features = ['Infant_deaths', 'Under_five_deaths', 'Adult_mortality', 'Alcohol_consumption',\n",
    "                       'Hepatitis_B', 'Measles', 'BMI', 'Polio', 'Diphtheria',\n",
    "                       'Incidents_HIV', 'GDP_per_capita', 'Population_mln',\n",
    "                       'Thinness_ten_nineteen_years', 'Thinness_five_nine_years',\n",
    "                       'Schooling', 'Life_expectancy']\n",
    "\n",
    "scaler = StandardScaler()\n",
    "\n",
    "df2[non_normal_features] = scaler.fit_transform(df2[non_normal_features])\n",
    "print(df2[non_normal_features])"
   ]
  }
 ],
 "metadata": {
  "kernelspec": {
   "display_name": "Python 3",
   "language": "python",
   "name": "python3"
  },
  "language_info": {
   "codemirror_mode": {
    "name": "ipython",
    "version": 3
   },
   "file_extension": ".py",
   "mimetype": "text/x-python",
   "name": "python",
   "nbconvert_exporter": "python",
   "pygments_lexer": "ipython3",
   "version": "3.12.4"
  }
 },
 "nbformat": 4,
 "nbformat_minor": 2
}
